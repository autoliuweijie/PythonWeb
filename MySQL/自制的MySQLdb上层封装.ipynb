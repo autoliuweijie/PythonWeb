{
 "cells": [
  {
   "cell_type": "markdown",
   "metadata": {},
   "source": [
    "# 自制MySQLdb的上层封装\n",
    "\n",
    "\n",
    "直接使用MySQLdb来用的话虽然方便，但是容易出问题，例如MySQLdb中没有长连接的概念，中途可能会断开链接。\n",
    "\n",
    "在./mysqlobj.py里提供了一个带重链接机制的mysql类，通过它不用担心断开链接。思路是：\n",
    "\n",
    "    1 python mysql 的cping 函数会校验链接的可用性,如果连接不可用将会产生异常\n",
    "    2 利用这一特性，构造一个连接丢失的循环，不断尝试连接数据库，直到连接恢复\n",
    "    3 使用这样的机制不需要关闭数据库功能,对于驻留进程，有大量数据进行写操作时，很有用途\n",
    "\n",
    "详细可以看./mysqlobj.py中的实现，目前只实现了select方法，需要的时候再去实现insert等其他方法。"
   ]
  },
  {
   "cell_type": "markdown",
   "metadata": {},
   "source": [
    "## 例子"
   ]
  },
  {
   "cell_type": "code",
   "execution_count": 1,
   "metadata": {
    "collapsed": false
   },
   "outputs": [],
   "source": [
    "from mysqlobj import mysql\n",
    "\n",
    "my = mysql(\n",
    "    'localhost',\n",
    "    'root',\n",
    "    'mysql_password',\n",
    "    'test',\n",
    "    3306,\n",
    ")"
   ]
  },
  {
   "cell_type": "code",
   "execution_count": 4,
   "metadata": {
    "collapsed": false
   },
   "outputs": [
    {
     "name": "stdout",
     "output_type": "stream",
     "text": [
      "({'age': u'9', 'class': u'3 year 2 class', 'id': 2L, 'name': u'Tom'}, {'age': u'9', 'class': u'3 year 2 class', 'id': 2L, 'name': u'Tom'}, {'age': u'6', 'class': u'1 year 1 class', 'id': 3L, 'name': u'Tom'}, {'age': u'7', 'class': u'2 year 1 class', 'id': 3L, 'name': u'Jack'}, {'age': u'7', 'class': u'2 year 2 class', 'id': 3L, 'name': u'Yaheng'}, {'age': u'6', 'class': u'1 year 1 class', 'id': 3L, 'name': u'Tom'}, {'age': u'7', 'class': u'2 year 1 class', 'id': 3L, 'name': u'Jack'}, {'age': u'7', 'class': u'2 year 2 class', 'id': 3L, 'name': u'Yaheng'})\n"
     ]
    }
   ],
   "source": [
    "print my.select(sql=\"select * from student\")"
   ]
  },
  {
   "cell_type": "code",
   "execution_count": 5,
   "metadata": {
    "collapsed": true
   },
   "outputs": [],
   "source": [
    "my.close()"
   ]
  },
  {
   "cell_type": "code",
   "execution_count": null,
   "metadata": {
    "collapsed": true
   },
   "outputs": [],
   "source": []
  }
 ],
 "metadata": {
  "kernelspec": {
   "display_name": "Python 2",
   "language": "python",
   "name": "python2"
  },
  "language_info": {
   "codemirror_mode": {
    "name": "ipython",
    "version": 2
   },
   "file_extension": ".py",
   "mimetype": "text/x-python",
   "name": "python",
   "nbconvert_exporter": "python",
   "pygments_lexer": "ipython2",
   "version": "2.7.12+"
  }
 },
 "nbformat": 4,
 "nbformat_minor": 0
}
