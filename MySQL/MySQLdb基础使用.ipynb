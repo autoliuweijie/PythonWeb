{
 "cells": [
  {
   "cell_type": "markdown",
   "metadata": {},
   "source": [
    "# MySQLdb: python操作mysql数据库基础"
   ]
  },
  {
   "cell_type": "markdown",
   "metadata": {},
   "source": [
    "## 1 创建MySQL数据库\n",
    "\n",
    "我们创建一个test数据库来练手，先确认本机器已经安装了mysql，并且正在运行\n",
    "\n",
    "```\n",
    "$ sudo netstat -tap | grep mysql\n",
    "\n",
    "> tcp        0      0 localhost:mysql         0.0.0.0:*               LISTEN      23489/mysqld\n",
    "```\n",
    "说明mysql正在运行\n",
    "\n",
    "首先登录mysql, root是用户名，-p 是输入密码\n",
    "\n",
    "```\n",
    "$ mysql -u root -p\n",
    "```\n",
    "\n",
    "登录以后，查看当前所有数据库\n",
    "\n",
    "```\n",
    "mysql> show databases;\n",
    "```\n",
    "\n",
    "创建test数据库\n",
    "\n",
    "```\n",
    "mysql> create database test;\n",
    "```\n",
    "\n",
    "使用这个数据库\n",
    "\n",
    "```\n",
    "mysql> use test;\n",
    "```\n",
    "\n",
    "查看这个数据库下的表\n",
    "\n",
    "```\n",
    "mysql> show tables;\n",
    "```\n",
    "\n",
    "创建user表\n",
    "\n",
    "```\n",
    "mysql> create table user (name VARCHAR(20),password VARCHAR(20));\n",
    "```\n",
    "\n",
    "插入若干条记录\n",
    "\n",
    "```\n",
    "mysql> insert into user values('Tom','123');\n",
    "mysql> insert into user values('Alen','456');\n",
    "mysql> insert into user values('Jack','789');\n",
    "```\n",
    "\n",
    "查看表的所有数据\n",
    "\n",
    "```\n",
    "mysql> select * from user;\n",
    "```\n",
    "\n",
    "自此，用于练手的数据库和表就建立好了。"
   ]
  },
  {
   "cell_type": "markdown",
   "metadata": {},
   "source": [
    "## 2 python操作数据库\n",
    "\n",
    "导入MySQLdb，如果没有安装，用pip安装\n",
    "\n",
    "```\n",
    "$ pip install MySQL-python\n",
    "```"
   ]
  },
  {
   "cell_type": "code",
   "execution_count": 2,
   "metadata": {
    "collapsed": false
   },
   "outputs": [],
   "source": [
    "import MySQLdb as msq"
   ]
  },
  {
   "cell_type": "markdown",
   "metadata": {},
   "source": [
    "连接数据库，并获得游标。"
   ]
  },
  {
   "cell_type": "code",
   "execution_count": 4,
   "metadata": {
    "collapsed": false
   },
   "outputs": [],
   "source": [
    "conn = msq.connect(\n",
    "    host='localhost',\n",
    "    port = 3306,\n",
    "    user ='root',\n",
    "    passwd ='your_mysql_password',\n",
    "    db = 'test',\n",
    ")\n",
    "\n",
    "cur = conn.cursor()"
   ]
  },
  {
   "cell_type": "markdown",
   "metadata": {},
   "source": [
    "创建一张student表。"
   ]
  },
  {
   "cell_type": "code",
   "execution_count": 9,
   "metadata": {
    "collapsed": false
   },
   "outputs": [
    {
     "name": "stderr",
     "output_type": "stream",
     "text": [
      "/usr/local/lib/python2.7/dist-packages/ipykernel/__main__.py:1: Warning: Table 'student' already exists\n",
      "  if __name__ == '__main__':\n"
     ]
    }
   ],
   "source": [
    "cur.execute(\"create table if not exists student(id int ,name varchar(20),class varchar(30),age varchar(10))\")\n",
    "conn.commit()  # 必须要提交后才会真正执行"
   ]
  },
  {
   "cell_type": "markdown",
   "metadata": {},
   "source": [
    "插入一条数据"
   ]
  },
  {
   "cell_type": "code",
   "execution_count": 11,
   "metadata": {
    "collapsed": false
   },
   "outputs": [],
   "source": [
    "cur.execute(\"insert into student values('2','Tom','3 year 2 class','9')\")\n",
    "conn.commit()"
   ]
  },
  {
   "cell_type": "markdown",
   "metadata": {},
   "source": [
    "一次插入多条"
   ]
  },
  {
   "cell_type": "code",
   "execution_count": 13,
   "metadata": {
    "collapsed": false
   },
   "outputs": [],
   "source": [
    "sqli = \"insert into student values(%s, %s, %s, %s)\"\n",
    "cur.executemany(sqli,[\n",
    "    ('3','Tom','1 year 1 class','6'),\n",
    "    ('3','Jack','2 year 1 class','7'),\n",
    "    ('3','Yaheng','2 year 2 class','7'),\n",
    "    ])\n",
    "conn.commit()"
   ]
  },
  {
   "cell_type": "markdown",
   "metadata": {},
   "source": [
    "查询数据"
   ]
  },
  {
   "cell_type": "code",
   "execution_count": 14,
   "metadata": {
    "collapsed": false
   },
   "outputs": [
    {
     "name": "stdout",
     "output_type": "stream",
     "text": [
      "8\n"
     ]
    }
   ],
   "source": [
    "nbr = cur.execute(\"select * from student\")\n",
    "print nbr"
   ]
  },
  {
   "cell_type": "markdown",
   "metadata": {},
   "source": [
    "fetchone()方法可以帮助我们获得表中的数据，可是每次执行cur.fetchone() 获得的数据都不一样，换句话说我没执行一次，游标会从表中的第一条数据移动到下一条数据的位置，所以，我再次执行的时候得到的是第二条数据。\n",
    "\n",
    "scroll(0,'absolute') 方法可以将游标定位到表中的第一条数据。"
   ]
  },
  {
   "cell_type": "code",
   "execution_count": 18,
   "metadata": {
    "collapsed": false
   },
   "outputs": [
    {
     "name": "stdout",
     "output_type": "stream",
     "text": [
      "(2L, 'Tom', '3 year 2 class', '9')\n",
      "(2L, 'Tom', '3 year 2 class', '9')\n",
      "(3L, 'Tom', '1 year 1 class', '6')\n"
     ]
    }
   ],
   "source": [
    "print cur.fetchone()\n",
    "print cur.fetchone()\n",
    "print cur.fetchone()\n",
    "cur.scroll(0,'absolute') "
   ]
  },
  {
   "cell_type": "markdown",
   "metadata": {},
   "source": [
    "fetchall()接收全部返回的结果。"
   ]
  },
  {
   "cell_type": "code",
   "execution_count": 19,
   "metadata": {
    "collapsed": false
   },
   "outputs": [
    {
     "name": "stdout",
     "output_type": "stream",
     "text": [
      "((2L, 'Tom', '3 year 2 class', '9'), (2L, 'Tom', '3 year 2 class', '9'), (3L, 'Tom', '1 year 1 class', '6'), (3L, 'Jack', '2 year 1 class', '7'), (3L, 'Yaheng', '2 year 2 class', '7'), (3L, 'Tom', '1 year 1 class', '6'), (3L, 'Jack', '2 year 1 class', '7'), (3L, 'Yaheng', '2 year 2 class', '7'))\n"
     ]
    }
   ],
   "source": [
    "print cur.fetchall()"
   ]
  },
  {
   "cell_type": "markdown",
   "metadata": {},
   "source": [
    "更多数据库操作：http://www.runoob.com/python/python-mysql.html"
   ]
  },
  {
   "cell_type": "code",
   "execution_count": null,
   "metadata": {
    "collapsed": true
   },
   "outputs": [],
   "source": []
  }
 ],
 "metadata": {
  "kernelspec": {
   "display_name": "Python 2",
   "language": "python",
   "name": "python2"
  },
  "language_info": {
   "codemirror_mode": {
    "name": "ipython",
    "version": 2
   },
   "file_extension": ".py",
   "mimetype": "text/x-python",
   "name": "python",
   "nbconvert_exporter": "python",
   "pygments_lexer": "ipython2",
   "version": "2.7.12+"
  }
 },
 "nbformat": 4,
 "nbformat_minor": 0
}
