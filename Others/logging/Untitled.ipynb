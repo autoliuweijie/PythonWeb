{
 "cells": [
  {
   "cell_type": "markdown",
   "metadata": {},
   "source": [
    "# python的日志模块-logging\n",
    "\n",
    "注意：这里是在notebook中运行，logging模块并不会按照预定进行输出，一切以文字叙述为准"
   ]
  },
  {
   "cell_type": "markdown",
   "metadata": {},
   "source": [
    "## 1. 简单的将日志打印到屏幕"
   ]
  },
  {
   "cell_type": "code",
   "execution_count": 6,
   "metadata": {
    "collapsed": false
   },
   "outputs": [
    {
     "name": "stderr",
     "output_type": "stream",
     "text": [
      "WARNING:root:This is warning message!\n"
     ]
    }
   ],
   "source": [
    "import logging\n",
    "\n",
    "logging.debug('This is debug message')\n",
    "logging.info('This is info message')\n",
    "logging.warning(\"This is warning message!\")"
   ]
  },
  {
   "cell_type": "markdown",
   "metadata": {},
   "source": [
    "可以看到，只有warning级别的日志被输出了，这是因为默认配置level是warning,小于这个级别的日志会被忽略。第2部分会告诉如何设置level。\n",
    "\n",
    "日志级别大小关系为：CRITICAL > ERROR > WARNING > INFO > DEBUG > NOTSET"
   ]
  },
  {
   "cell_type": "markdown",
   "metadata": {},
   "source": [
    "## 2. 将日志按照指定格式输出到文件中\n",
    "\n",
    "通过logging.basicConfig()来对日志进行配置"
   ]
  },
  {
   "cell_type": "code",
   "execution_count": 7,
   "metadata": {
    "collapsed": false
   },
   "outputs": [
    {
     "name": "stderr",
     "output_type": "stream",
     "text": [
      "WARNING:root:This is debug message\n"
     ]
    }
   ],
   "source": [
    "import logging\n",
    "\n",
    "logging.basicConfig(\n",
    "    level=logging.DEBUG,\n",
    "    format='%(asctime)s %(filename)s[line:%(lineno)d] %(levelname)s %(message)s',\n",
    "    datefmt='%a, %d %b %Y %H:%M:%S',\n",
    "    filename='./myapp.log',\n",
    "    filemode='a'\n",
    "    )\n",
    "\n",
    "logging.debug('This is debug message')\n",
    "logging.info('This is info message')\n",
    "logging.warning('This is debug message')"
   ]
  },
  {
   "cell_type": "markdown",
   "metadata": {},
   "source": [
    "这样，日志就会被输出到./myapp.log文件中，内容如下：\n",
    "\n",
    "    Wed, 22 Feb 2017 10:19:46 logging_pratice.py[line:11] DEBUG This is debug message \n",
    "    Wed, 22 Feb 2017 10:19:46 logging_pratice.py[line:12] INFO This is info message\n",
    "    Wed, 22 Feb 2017 10:19:46 logging_pratice.py[line:13] WARNING This is debug message \n",
    " \n",
    "logging.basicConfig的参数说明如下：\n",
    "\n",
    "    level: 指定日志级别，小于这个级别的日志会被忽略\n",
    "    format: 指定输出的格式和内容，format可以输出很多有用信息，如上例所示:\n",
    "         %(levelno)s: 打印日志级别的数值\n",
    "         %(levelname)s: 打印日志级别名称\n",
    "         %(pathname)s: 打印当前执行程序的路径，其实就是sys.argv[0]\n",
    "         %(filename)s: 打印当前执行程序名\n",
    "         %(funcName)s: 打印日志的当前函数\n",
    "         %(lineno)d: 打印日志的当前行号\n",
    "         %(asctime)s: 打印日志的时间\n",
    "         %(thread)d: 打印线程ID\n",
    "         %(threadName)s: 打印线程名称\n",
    "         %(process)d: 打印进程ID\n",
    "         %(message)s: 打印日志信息 \n",
    "    datefmt: 指定时间格式，同time.strftime()\n",
    "    filename: 日志输出的文件名，默认是输出的屏幕\n",
    "    filemode：打开文件的方式，‘a’表示会在已有文件后续追加写内容，'w'表示覆盖原有文件"
   ]
  },
  {
   "cell_type": "code",
   "execution_count": null,
   "metadata": {
    "collapsed": true
   },
   "outputs": [],
   "source": []
  }
 ],
 "metadata": {
  "kernelspec": {
   "display_name": "Python 2",
   "language": "python",
   "name": "python2"
  },
  "language_info": {
   "codemirror_mode": {
    "name": "ipython",
    "version": 2
   },
   "file_extension": ".py",
   "mimetype": "text/x-python",
   "name": "python",
   "nbconvert_exporter": "python",
   "pygments_lexer": "ipython2",
   "version": "2.7.12+"
  }
 },
 "nbformat": 4,
 "nbformat_minor": 0
}
